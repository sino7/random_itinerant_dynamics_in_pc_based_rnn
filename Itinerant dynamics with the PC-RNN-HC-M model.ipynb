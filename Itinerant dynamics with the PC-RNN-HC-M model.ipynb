{
 "cells": [
  {
   "cell_type": "markdown",
   "id": "bdedec35",
   "metadata": {},
   "source": [
    "Work in progress...\n",
    "\n",
    "# Itinerant dynamics with the PC-RNN-HC-M model\n",
    "\n",
    "This notebook provides the necessary source code to simulate itinerant dynamics using a trained PC-RNN-HC-M model. The model is first trained to generate three cyclic patterns using BPTT. We use the Gaussian mixture prior distribution on the hidden causes to randomly switch between the three learned behaviors, we call such dynamics itinerant.\n",
    "\n",
    "## Model definition"
   ]
  },
  {
   "cell_type": "markdown",
   "id": "f6138c62",
   "metadata": {},
   "source": [
    "## Dataset"
   ]
  },
  {
   "cell_type": "markdown",
   "id": "5fe7e1ed",
   "metadata": {},
   "source": [
    "## Model Training"
   ]
  },
  {
   "cell_type": "markdown",
   "id": "d8dfcae0",
   "metadata": {},
   "source": [
    "## Itinerancy simulation"
   ]
  },
  {
   "cell_type": "code",
   "execution_count": null,
   "id": "17c03234",
   "metadata": {},
   "outputs": [],
   "source": []
  }
 ],
 "metadata": {
  "kernelspec": {
   "display_name": "Python 3",
   "language": "python",
   "name": "python3"
  },
  "language_info": {
   "codemirror_mode": {
    "name": "ipython",
    "version": 3
   },
   "file_extension": ".py",
   "mimetype": "text/x-python",
   "name": "python",
   "nbconvert_exporter": "python",
   "pygments_lexer": "ipython3",
   "version": "3.8.8"
  }
 },
 "nbformat": 4,
 "nbformat_minor": 5
}
